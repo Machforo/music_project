{
  "nbformat": 4,
  "nbformat_minor": 0,
  "metadata": {
    "colab": {
      "provenance": []
    },
    "kernelspec": {
      "name": "python3",
      "display_name": "Python 3"
    },
    "language_info": {
      "name": "python"
    }
  },
  "cells": [
    {
      "cell_type": "code",
      "execution_count": null,
      "metadata": {
        "colab": {
          "base_uri": "https://localhost:8080/"
        },
        "id": "QdCwjnQS6Rgj",
        "outputId": "ea00dd8b-a60f-4061-c728-4fe7a1009a6a"
      },
      "outputs": [
        {
          "output_type": "stream",
          "name": "stdout",
          "text": [
            "Mounted at /content/drive\n"
          ]
        }
      ],
      "source": [
        "# connecting drive\n",
        "from google.colab import drive\n",
        "drive.mount('/content/drive',force_remount=True)"
      ]
    },
    {
      "cell_type": "code",
      "source": [
        "# importing necessary libraries\n",
        "import pandas as pd\n",
        "import numpy as np\n",
        "import matplotlib.pylab as plt\n",
        "from glob import glob"
      ],
      "metadata": {
        "id": "Q59xDnhlCAYh"
      },
      "execution_count": null,
      "outputs": []
    },
    {
      "cell_type": "markdown",
      "source": [
        "Librosa used for audio processing"
      ],
      "metadata": {
        "id": "1sUTisohDl_q"
      }
    },
    {
      "cell_type": "code",
      "source": [
        "!pip install librosa"
      ],
      "metadata": {
        "colab": {
          "base_uri": "https://localhost:8080/"
        },
        "id": "LMhPT4AoDrKI",
        "outputId": "1cd4c7c1-3930-44b5-eb49-cd5fadeb1c1b"
      },
      "execution_count": null,
      "outputs": [
        {
          "output_type": "stream",
          "name": "stdout",
          "text": [
            "Looking in indexes: https://pypi.org/simple, https://us-python.pkg.dev/colab-wheels/public/simple/\n",
            "Requirement already satisfied: librosa in /usr/local/lib/python3.8/dist-packages (0.8.1)\n",
            "Requirement already satisfied: numpy>=1.15.0 in /usr/local/lib/python3.8/dist-packages (from librosa) (1.21.6)\n",
            "Requirement already satisfied: scikit-learn!=0.19.0,>=0.14.0 in /usr/local/lib/python3.8/dist-packages (from librosa) (1.0.2)\n",
            "Requirement already satisfied: audioread>=2.0.0 in /usr/local/lib/python3.8/dist-packages (from librosa) (3.0.0)\n",
            "Requirement already satisfied: packaging>=20.0 in /usr/local/lib/python3.8/dist-packages (from librosa) (21.3)\n",
            "Requirement already satisfied: resampy>=0.2.2 in /usr/local/lib/python3.8/dist-packages (from librosa) (0.4.2)\n",
            "Requirement already satisfied: pooch>=1.0 in /usr/local/lib/python3.8/dist-packages (from librosa) (1.6.0)\n",
            "Requirement already satisfied: decorator>=3.0.0 in /usr/local/lib/python3.8/dist-packages (from librosa) (4.4.2)\n",
            "Requirement already satisfied: joblib>=0.14 in /usr/local/lib/python3.8/dist-packages (from librosa) (1.2.0)\n",
            "Requirement already satisfied: soundfile>=0.10.2 in /usr/local/lib/python3.8/dist-packages (from librosa) (0.11.0)\n",
            "Requirement already satisfied: numba>=0.43.0 in /usr/local/lib/python3.8/dist-packages (from librosa) (0.56.4)\n",
            "Requirement already satisfied: scipy>=1.0.0 in /usr/local/lib/python3.8/dist-packages (from librosa) (1.7.3)\n",
            "Requirement already satisfied: setuptools in /usr/local/lib/python3.8/dist-packages (from numba>=0.43.0->librosa) (57.4.0)\n",
            "Requirement already satisfied: llvmlite<0.40,>=0.39.0dev0 in /usr/local/lib/python3.8/dist-packages (from numba>=0.43.0->librosa) (0.39.1)\n",
            "Requirement already satisfied: importlib-metadata in /usr/local/lib/python3.8/dist-packages (from numba>=0.43.0->librosa) (6.0.0)\n",
            "Requirement already satisfied: pyparsing!=3.0.5,>=2.0.2 in /usr/local/lib/python3.8/dist-packages (from packaging>=20.0->librosa) (3.0.9)\n",
            "Requirement already satisfied: appdirs>=1.3.0 in /usr/local/lib/python3.8/dist-packages (from pooch>=1.0->librosa) (1.4.4)\n",
            "Requirement already satisfied: requests>=2.19.0 in /usr/local/lib/python3.8/dist-packages (from pooch>=1.0->librosa) (2.25.1)\n",
            "Requirement already satisfied: threadpoolctl>=2.0.0 in /usr/local/lib/python3.8/dist-packages (from scikit-learn!=0.19.0,>=0.14.0->librosa) (3.1.0)\n",
            "Requirement already satisfied: cffi>=1.0 in /usr/local/lib/python3.8/dist-packages (from soundfile>=0.10.2->librosa) (1.15.1)\n",
            "Requirement already satisfied: pycparser in /usr/local/lib/python3.8/dist-packages (from cffi>=1.0->soundfile>=0.10.2->librosa) (2.21)\n",
            "Requirement already satisfied: chardet<5,>=3.0.2 in /usr/local/lib/python3.8/dist-packages (from requests>=2.19.0->pooch>=1.0->librosa) (4.0.0)\n",
            "Requirement already satisfied: certifi>=2017.4.17 in /usr/local/lib/python3.8/dist-packages (from requests>=2.19.0->pooch>=1.0->librosa) (2022.12.7)\n",
            "Requirement already satisfied: urllib3<1.27,>=1.21.1 in /usr/local/lib/python3.8/dist-packages (from requests>=2.19.0->pooch>=1.0->librosa) (1.24.3)\n",
            "Requirement already satisfied: idna<3,>=2.5 in /usr/local/lib/python3.8/dist-packages (from requests>=2.19.0->pooch>=1.0->librosa) (2.10)\n",
            "Requirement already satisfied: zipp>=0.5 in /usr/local/lib/python3.8/dist-packages (from importlib-metadata->numba>=0.43.0->librosa) (3.11.0)\n"
          ]
        }
      ]
    },
    {
      "cell_type": "code",
      "source": [
        "import librosa\n",
        "import librosa.display\n"
      ],
      "metadata": {
        "id": "SmMPko3MDvCm"
      },
      "execution_count": null,
      "outputs": []
    },
    {
      "cell_type": "code",
      "source": [
        "!pip install Ipython"
      ],
      "metadata": {
        "colab": {
          "base_uri": "https://localhost:8080/"
        },
        "id": "JH5w4rmZEJKV",
        "outputId": "c397f665-d75d-425b-87ce-6dc9e1be6611"
      },
      "execution_count": null,
      "outputs": [
        {
          "output_type": "stream",
          "name": "stdout",
          "text": [
            "Looking in indexes: https://pypi.org/simple, https://us-python.pkg.dev/colab-wheels/public/simple/\n",
            "Requirement already satisfied: Ipython in /usr/local/lib/python3.8/dist-packages (7.9.0)\n",
            "Requirement already satisfied: prompt-toolkit<2.1.0,>=2.0.0 in /usr/local/lib/python3.8/dist-packages (from Ipython) (2.0.10)\n",
            "Requirement already satisfied: pickleshare in /usr/local/lib/python3.8/dist-packages (from Ipython) (0.7.5)\n",
            "Collecting jedi>=0.10\n",
            "  Downloading jedi-0.18.2-py2.py3-none-any.whl (1.6 MB)\n",
            "\u001b[2K     \u001b[90m━━━━━━━━━━━━━━━━━━━━━━━━━━━━━━━━━━━━━━━━\u001b[0m \u001b[32m1.6/1.6 MB\u001b[0m \u001b[31m21.4 MB/s\u001b[0m eta \u001b[36m0:00:00\u001b[0m\n",
            "\u001b[?25hRequirement already satisfied: backcall in /usr/local/lib/python3.8/dist-packages (from Ipython) (0.2.0)\n",
            "Requirement already satisfied: setuptools>=18.5 in /usr/local/lib/python3.8/dist-packages (from Ipython) (57.4.0)\n",
            "Requirement already satisfied: decorator in /usr/local/lib/python3.8/dist-packages (from Ipython) (4.4.2)\n",
            "Requirement already satisfied: traitlets>=4.2 in /usr/local/lib/python3.8/dist-packages (from Ipython) (5.7.1)\n",
            "Requirement already satisfied: pygments in /usr/local/lib/python3.8/dist-packages (from Ipython) (2.6.1)\n",
            "Requirement already satisfied: pexpect in /usr/local/lib/python3.8/dist-packages (from Ipython) (4.8.0)\n",
            "Requirement already satisfied: parso<0.9.0,>=0.8.0 in /usr/local/lib/python3.8/dist-packages (from jedi>=0.10->Ipython) (0.8.3)\n",
            "Requirement already satisfied: six>=1.9.0 in /usr/local/lib/python3.8/dist-packages (from prompt-toolkit<2.1.0,>=2.0.0->Ipython) (1.15.0)\n",
            "Requirement already satisfied: wcwidth in /usr/local/lib/python3.8/dist-packages (from prompt-toolkit<2.1.0,>=2.0.0->Ipython) (0.2.5)\n",
            "Requirement already satisfied: ptyprocess>=0.5 in /usr/local/lib/python3.8/dist-packages (from pexpect->Ipython) (0.7.0)\n",
            "Installing collected packages: jedi\n",
            "Successfully installed jedi-0.18.2\n"
          ]
        }
      ]
    },
    {
      "cell_type": "code",
      "source": [
        "import IPython.display as ipd"
      ],
      "metadata": {
        "id": "Jgnb2b5aENf-"
      },
      "execution_count": null,
      "outputs": []
    },
    {
      "cell_type": "code",
      "source": [
        "list_of_songs = glob('../content/drive/MyDrive/OhBot/*.wav')\n"
      ],
      "metadata": {
        "id": "sVEDybuzEqZO"
      },
      "execution_count": null,
      "outputs": []
    },
    {
      "cell_type": "code",
      "source": [
        "print(list_of_songs)"
      ],
      "metadata": {
        "colab": {
          "base_uri": "https://localhost:8080/"
        },
        "id": "pbnFpgT-HCMH",
        "outputId": "5bc0818a-81ea-452e-804d-8e2762ce543e"
      },
      "execution_count": null,
      "outputs": [
        {
          "output_type": "stream",
          "name": "stdout",
          "text": [
            "['../content/drive/MyDrive/OhBot/Fanfare.wav', '../content/drive/MyDrive/OhBot/Loop.wav', '../content/drive/MyDrive/OhBot/smash.wav', '../content/drive/MyDrive/OhBot/ohbot.wav', '../content/drive/MyDrive/OhBot/Spring.wav']\n"
          ]
        }
      ]
    },
    {
      "cell_type": "code",
      "source": [
        "#ipd.Audio(list_of_songs[0])"
      ],
      "metadata": {
        "id": "6jb0H3jdHf0-"
      },
      "execution_count": null,
      "outputs": []
    },
    {
      "cell_type": "code",
      "source": [
        "stft=[]\n",
        "cens=[]\n",
        "mfcc=[]\n",
        "contrast=[]\n",
        "flatness=[]\n",
        "freq=[]\n",
        "crossing_rate=[]\n",
        "f_tempo=[]\n",
        "for x in list_of_songs:\n",
        "  #ipd.Audio(x)\n",
        "  y, sr=librosa.load(x)\n",
        "  #plotting the waveform\n",
        "  '''\n",
        "  pd.Series(y).plot(title='Raw Sample')\n",
        "  plt.show()\n",
        "  '''\n",
        "  # trimming\n",
        "  y_trimmed,sr_trimmed=librosa.effects.trim(y, top_db=30)\n",
        "  '''\n",
        "  pd.Series(y_trimmed).plot(title='Raw Trimmed Sample')\n",
        "  plt.show()\n",
        "  '''\n",
        "\n",
        "  #######################################################################################\n",
        "  # Feature Extraction\n",
        "  #Compute a chromagram from a waveform or power spectrogram.\n",
        "  kl=librosa.stft(y_trimmed)\n",
        "  stft.append(kl)\n",
        "  # Computes the chroma variant \"Chroma Energy Normalized\" (CENS) dynamics, timbre and articulation,\n",
        "  k2=librosa.feature.chroma_cens(y=y,sr=sr)\n",
        "  cens.append(k2)\n",
        "  # Mel-frequency cepstral coefficients (MFCCs)\n",
        "  k3=librosa.feature.mfcc(y=y, sr=sr)\n",
        "  mfcc.append(k3)\n",
        "  # Compute spectral contrast\n",
        "  S = np.abs(librosa.stft(y))\n",
        "  k4 = librosa.feature.spectral_contrast(S=S, sr=sr)\n",
        "  contrast.append(k4)\n",
        "  # Compute spectral flatness\n",
        "  k5=librosa.feature.spectral_flatness(y=y)\n",
        "  flatness.append(k5)\n",
        "  # Compute roll-off frequency.\n",
        "  k6=librosa.feature.spectral_rolloff(S=S, sr=sr)\n",
        "  freq.append(k6)\n",
        "  # Compute the zero-crossing rate of an audio time series.\n",
        "  k7=librosa.feature.zero_crossing_rate(y=y)\n",
        "  crossing_rate.append(k7)\n",
        "  # ompute the Fourier tempogram: the short-time Fourier transform of the onset strength envelope.\n",
        "  k8=librosa.feature.fourier_tempogram(y=y,sr=sr)\n",
        "  f_tempo.append(k8)\n",
        "  #######################################################################################################\n",
        "\n",
        "\n",
        "  k_db = librosa.amplitude_to_db(np.abs(kl), ref=np.max)\n",
        "  #print(k_db)\n",
        "  '''\n",
        "  fig, ax = plt.subplots(figsize=(10, 5))\n",
        "  img = librosa.display.specshow(k_db, x_axis='time', y_axis='log', ax=ax)\n",
        "  ax.set_title('Spectogram Example', fontsize=20)\n",
        "  fig.colorbar(img, ax=ax, format=f'%0.2f')\n",
        "  plt.show()\n",
        "  '''\n"
      ],
      "metadata": {
        "id": "QZZ-4hfLIyyj",
        "colab": {
          "base_uri": "https://localhost:8080/"
        },
        "outputId": "c3564dd8-fecd-424b-a7e4-f2b0bd83eb30"
      },
      "execution_count": null,
      "outputs": [
        {
          "output_type": "stream",
          "name": "stderr",
          "text": [
            "/usr/local/lib/python3.8/dist-packages/librosa/core/spectrum.py:222: UserWarning: n_fft=384 is too small for input signal of length=295\n",
            "  warnings.warn(\n",
            "/usr/local/lib/python3.8/dist-packages/librosa/core/spectrum.py:222: UserWarning: n_fft=1024 is too small for input signal of length=810\n",
            "  warnings.warn(\n",
            "/usr/local/lib/python3.8/dist-packages/librosa/core/spectrum.py:222: UserWarning: n_fft=1024 is too small for input signal of length=405\n",
            "  warnings.warn(\n",
            "/usr/local/lib/python3.8/dist-packages/librosa/core/spectrum.py:222: UserWarning: n_fft=384 is too small for input signal of length=51\n",
            "  warnings.warn(\n",
            "/usr/local/lib/python3.8/dist-packages/librosa/core/spectrum.py:222: UserWarning: n_fft=1024 is too small for input signal of length=818\n",
            "  warnings.warn(\n",
            "/usr/local/lib/python3.8/dist-packages/librosa/core/spectrum.py:222: UserWarning: n_fft=384 is too small for input signal of length=103\n",
            "  warnings.warn(\n",
            "/usr/local/lib/python3.8/dist-packages/librosa/core/spectrum.py:222: UserWarning: n_fft=1024 is too small for input signal of length=562\n",
            "  warnings.warn(\n",
            "/usr/local/lib/python3.8/dist-packages/librosa/core/spectrum.py:222: UserWarning: n_fft=384 is too small for input signal of length=71\n",
            "  warnings.warn(\n"
          ]
        }
      ]
    },
    {
      "cell_type": "code",
      "source": [
        "#print(stft)\n",
        "#print(cens)\n",
        "#print(mfcc)\n",
        "#print(contrast)\n",
        "#print(flatness)\n",
        "#print(freq)\n",
        "#print(crossing_rate)\n",
        "#print(f_tempo)"
      ],
      "metadata": {
        "id": "KHFaS0OSI_n4"
      },
      "execution_count": null,
      "outputs": []
    },
    {
      "cell_type": "code",
      "source": [
        "def newar(d):\n",
        "  d1=[]\n",
        "  for x in d:\n",
        "    x1=x.flatten()\n",
        "    x2=np.mean(x1)\n",
        "    d1.append(x2)\n",
        "  return d1\n",
        "stft1=newar(stft)\n",
        "cens1=newar(cens)\n",
        "mfcc1=newar(mfcc)\n",
        "contrast1=newar(contrast)\n",
        "flatness1=newar(flatness)\n",
        "freq1=newar(freq)\n",
        "crossing_rate1=newar(crossing_rate)\n",
        "f_tempo1=newar(f_tempo)\n",
        "\n",
        "#print(stft1)\n",
        "print(cens1)\n",
        "print(mfcc1)\n",
        "print(contrast1)\n",
        "print(flatness1)\n",
        "print(freq1)\n",
        "print(crossing_rate1)\n",
        "#print(f_tempo1)"
      ],
      "metadata": {
        "id": "RKdDxVsaBzVd",
        "outputId": "a716fd54-415d-4882-ad51-0449636eb342",
        "colab": {
          "base_uri": "https://localhost:8080/"
        }
      },
      "execution_count": null,
      "outputs": [
        {
          "output_type": "stream",
          "name": "stdout",
          "text": [
            "[0.1498708315752311, 0.28030195534334157, 0.2808429300766217, 0.2550753284879085, 0.2627411740697424]\n",
            "[-20.080439, -3.1181617, -18.170088, -18.820509, -14.518768]\n",
            "[28.90230309943385, 19.861241186726897, 18.849347218091534, 21.58438445022605, 23.63012105133424]\n",
            "[0.0004324424, 0.030559435, 0.11831951, 0.01216688, 0.0009316423]\n",
            "[1287.6125529661017, 4239.267800071023, 8815.735581341913, 6312.573479217233, 2078.4090283890846]\n",
            "[0.06197033898305085, 0.0698254517834596, 0.5562193627450981, 0.16885050060679613, 0.10735998019366197]\n"
          ]
        }
      ]
    },
    {
      "cell_type": "code",
      "source": [
        "# converting to tabular format\n",
        "# importing pandas\n",
        "import pandas as pd\n",
        "cla=['1','1','0','0','1']\n",
        "data=pd.DataFrame(data=[mfcc1,cens1,contrast1,flatness1,freq1,crossing_rate1,cla]).transpose()\n",
        "data.columns=['MFCC','CENS','CONTRAST','FLATNESS','FREQ','CROSSING RATE','Classes']\n",
        "print(data)"
      ],
      "metadata": {
        "id": "kHTYs29GbTyE",
        "outputId": "0665ce11-9cd8-4fe6-f446-687cc1879e44",
        "colab": {
          "base_uri": "https://localhost:8080/"
        }
      },
      "execution_count": null,
      "outputs": [
        {
          "output_type": "stream",
          "name": "stdout",
          "text": [
            "        MFCC      CENS   CONTRAST  FLATNESS         FREQ CROSSING RATE Classes\n",
            "0 -20.080439  0.149871  28.902303  0.000432  1287.612553       0.06197       1\n",
            "1  -3.118162  0.280302  19.861241  0.030559    4239.2678      0.069825       1\n",
            "2 -18.170088  0.280843  18.849347   0.11832  8815.735581      0.556219       0\n",
            "3 -18.820509  0.255075  21.584384  0.012167  6312.573479      0.168851       0\n",
            "4 -14.518768  0.262741  23.630121  0.000932  2078.409028       0.10736       1\n"
          ]
        }
      ]
    },
    {
      "cell_type": "code",
      "source": [
        "# saving in the form of csv file\n",
        "data.to_csv('Musicfile',header=True,index=True)"
      ],
      "metadata": {
        "id": "xERj2Gl21HUV"
      },
      "execution_count": null,
      "outputs": []
    },
    {
      "cell_type": "markdown",
      "source": [
        "Now the classification part"
      ],
      "metadata": {
        "id": "nkP87t081oEO"
      }
    },
    {
      "cell_type": "markdown",
      "source": [
        "Updates removed stft and freq columns"
      ],
      "metadata": {
        "id": "TaO1Vpq_L-n-"
      }
    },
    {
      "cell_type": "code",
      "source": [
        "df = pd.read_csv('Musicfile')"
      ],
      "metadata": {
        "id": "pSQ6qJxBVr-q"
      },
      "execution_count": null,
      "outputs": []
    },
    {
      "cell_type": "code",
      "source": [
        "df"
      ],
      "metadata": {
        "colab": {
          "base_uri": "https://localhost:8080/",
          "height": 206
        },
        "id": "ABJmnPL9WHj6",
        "outputId": "4bdba4e0-e2a7-45bf-9497-199b3c92a983"
      },
      "execution_count": null,
      "outputs": [
        {
          "output_type": "execute_result",
          "data": {
            "text/plain": [
              "   Unnamed: 0       MFCC      CENS   CONTRAST  FLATNESS         FREQ  \\\n",
              "0           0 -20.080439  0.149871  28.902303  0.000432  1287.612553   \n",
              "1           1  -3.118162  0.280302  19.861241  0.030559  4239.267800   \n",
              "2           2 -18.170088  0.280843  18.849347  0.118320  8815.735581   \n",
              "3           3 -18.820509  0.255075  21.584384  0.012167  6312.573479   \n",
              "4           4 -14.518768  0.262741  23.630121  0.000932  2078.409028   \n",
              "\n",
              "   CROSSING RATE  Classes  \n",
              "0       0.061970        1  \n",
              "1       0.069825        1  \n",
              "2       0.556219        0  \n",
              "3       0.168851        0  \n",
              "4       0.107360        1  "
            ],
            "text/html": [
              "\n",
              "  <div id=\"df-c11dd9b5-a440-439c-80e0-2a498f1df63a\">\n",
              "    <div class=\"colab-df-container\">\n",
              "      <div>\n",
              "<style scoped>\n",
              "    .dataframe tbody tr th:only-of-type {\n",
              "        vertical-align: middle;\n",
              "    }\n",
              "\n",
              "    .dataframe tbody tr th {\n",
              "        vertical-align: top;\n",
              "    }\n",
              "\n",
              "    .dataframe thead th {\n",
              "        text-align: right;\n",
              "    }\n",
              "</style>\n",
              "<table border=\"1\" class=\"dataframe\">\n",
              "  <thead>\n",
              "    <tr style=\"text-align: right;\">\n",
              "      <th></th>\n",
              "      <th>Unnamed: 0</th>\n",
              "      <th>MFCC</th>\n",
              "      <th>CENS</th>\n",
              "      <th>CONTRAST</th>\n",
              "      <th>FLATNESS</th>\n",
              "      <th>FREQ</th>\n",
              "      <th>CROSSING RATE</th>\n",
              "      <th>Classes</th>\n",
              "    </tr>\n",
              "  </thead>\n",
              "  <tbody>\n",
              "    <tr>\n",
              "      <th>0</th>\n",
              "      <td>0</td>\n",
              "      <td>-20.080439</td>\n",
              "      <td>0.149871</td>\n",
              "      <td>28.902303</td>\n",
              "      <td>0.000432</td>\n",
              "      <td>1287.612553</td>\n",
              "      <td>0.061970</td>\n",
              "      <td>1</td>\n",
              "    </tr>\n",
              "    <tr>\n",
              "      <th>1</th>\n",
              "      <td>1</td>\n",
              "      <td>-3.118162</td>\n",
              "      <td>0.280302</td>\n",
              "      <td>19.861241</td>\n",
              "      <td>0.030559</td>\n",
              "      <td>4239.267800</td>\n",
              "      <td>0.069825</td>\n",
              "      <td>1</td>\n",
              "    </tr>\n",
              "    <tr>\n",
              "      <th>2</th>\n",
              "      <td>2</td>\n",
              "      <td>-18.170088</td>\n",
              "      <td>0.280843</td>\n",
              "      <td>18.849347</td>\n",
              "      <td>0.118320</td>\n",
              "      <td>8815.735581</td>\n",
              "      <td>0.556219</td>\n",
              "      <td>0</td>\n",
              "    </tr>\n",
              "    <tr>\n",
              "      <th>3</th>\n",
              "      <td>3</td>\n",
              "      <td>-18.820509</td>\n",
              "      <td>0.255075</td>\n",
              "      <td>21.584384</td>\n",
              "      <td>0.012167</td>\n",
              "      <td>6312.573479</td>\n",
              "      <td>0.168851</td>\n",
              "      <td>0</td>\n",
              "    </tr>\n",
              "    <tr>\n",
              "      <th>4</th>\n",
              "      <td>4</td>\n",
              "      <td>-14.518768</td>\n",
              "      <td>0.262741</td>\n",
              "      <td>23.630121</td>\n",
              "      <td>0.000932</td>\n",
              "      <td>2078.409028</td>\n",
              "      <td>0.107360</td>\n",
              "      <td>1</td>\n",
              "    </tr>\n",
              "  </tbody>\n",
              "</table>\n",
              "</div>\n",
              "      <button class=\"colab-df-convert\" onclick=\"convertToInteractive('df-c11dd9b5-a440-439c-80e0-2a498f1df63a')\"\n",
              "              title=\"Convert this dataframe to an interactive table.\"\n",
              "              style=\"display:none;\">\n",
              "        \n",
              "  <svg xmlns=\"http://www.w3.org/2000/svg\" height=\"24px\"viewBox=\"0 0 24 24\"\n",
              "       width=\"24px\">\n",
              "    <path d=\"M0 0h24v24H0V0z\" fill=\"none\"/>\n",
              "    <path d=\"M18.56 5.44l.94 2.06.94-2.06 2.06-.94-2.06-.94-.94-2.06-.94 2.06-2.06.94zm-11 1L8.5 8.5l.94-2.06 2.06-.94-2.06-.94L8.5 2.5l-.94 2.06-2.06.94zm10 10l.94 2.06.94-2.06 2.06-.94-2.06-.94-.94-2.06-.94 2.06-2.06.94z\"/><path d=\"M17.41 7.96l-1.37-1.37c-.4-.4-.92-.59-1.43-.59-.52 0-1.04.2-1.43.59L10.3 9.45l-7.72 7.72c-.78.78-.78 2.05 0 2.83L4 21.41c.39.39.9.59 1.41.59.51 0 1.02-.2 1.41-.59l7.78-7.78 2.81-2.81c.8-.78.8-2.07 0-2.86zM5.41 20L4 18.59l7.72-7.72 1.47 1.35L5.41 20z\"/>\n",
              "  </svg>\n",
              "      </button>\n",
              "      \n",
              "  <style>\n",
              "    .colab-df-container {\n",
              "      display:flex;\n",
              "      flex-wrap:wrap;\n",
              "      gap: 12px;\n",
              "    }\n",
              "\n",
              "    .colab-df-convert {\n",
              "      background-color: #E8F0FE;\n",
              "      border: none;\n",
              "      border-radius: 50%;\n",
              "      cursor: pointer;\n",
              "      display: none;\n",
              "      fill: #1967D2;\n",
              "      height: 32px;\n",
              "      padding: 0 0 0 0;\n",
              "      width: 32px;\n",
              "    }\n",
              "\n",
              "    .colab-df-convert:hover {\n",
              "      background-color: #E2EBFA;\n",
              "      box-shadow: 0px 1px 2px rgba(60, 64, 67, 0.3), 0px 1px 3px 1px rgba(60, 64, 67, 0.15);\n",
              "      fill: #174EA6;\n",
              "    }\n",
              "\n",
              "    [theme=dark] .colab-df-convert {\n",
              "      background-color: #3B4455;\n",
              "      fill: #D2E3FC;\n",
              "    }\n",
              "\n",
              "    [theme=dark] .colab-df-convert:hover {\n",
              "      background-color: #434B5C;\n",
              "      box-shadow: 0px 1px 3px 1px rgba(0, 0, 0, 0.15);\n",
              "      filter: drop-shadow(0px 1px 2px rgba(0, 0, 0, 0.3));\n",
              "      fill: #FFFFFF;\n",
              "    }\n",
              "  </style>\n",
              "\n",
              "      <script>\n",
              "        const buttonEl =\n",
              "          document.querySelector('#df-c11dd9b5-a440-439c-80e0-2a498f1df63a button.colab-df-convert');\n",
              "        buttonEl.style.display =\n",
              "          google.colab.kernel.accessAllowed ? 'block' : 'none';\n",
              "\n",
              "        async function convertToInteractive(key) {\n",
              "          const element = document.querySelector('#df-c11dd9b5-a440-439c-80e0-2a498f1df63a');\n",
              "          const dataTable =\n",
              "            await google.colab.kernel.invokeFunction('convertToInteractive',\n",
              "                                                     [key], {});\n",
              "          if (!dataTable) return;\n",
              "\n",
              "          const docLinkHtml = 'Like what you see? Visit the ' +\n",
              "            '<a target=\"_blank\" href=https://colab.research.google.com/notebooks/data_table.ipynb>data table notebook</a>'\n",
              "            + ' to learn more about interactive tables.';\n",
              "          element.innerHTML = '';\n",
              "          dataTable['output_type'] = 'display_data';\n",
              "          await google.colab.output.renderOutput(dataTable, element);\n",
              "          const docLink = document.createElement('div');\n",
              "          docLink.innerHTML = docLinkHtml;\n",
              "          element.appendChild(docLink);\n",
              "        }\n",
              "      </script>\n",
              "    </div>\n",
              "  </div>\n",
              "  "
            ]
          },
          "metadata": {},
          "execution_count": 13
        }
      ]
    },
    {
      "cell_type": "code",
      "source": [
        "\n",
        "from sklearn.model_selection import train_test_split\n",
        "from sklearn.neighbors import KNeighborsClassifier\n",
        "from sklearn.metrics import confusion_matrix, plot_confusion_matrix,accuracy_score"
      ],
      "metadata": {
        "id": "xkWwBnoSWH98"
      },
      "execution_count": null,
      "outputs": []
    },
    {
      "cell_type": "code",
      "source": [
        "# X=X.reshape(-1,1)\n",
        "X = df.iloc[:,:-1]\n",
        "y=df['Classes']\n",
        "print(X)\n",
        "print()\n",
        "print(y)\n",
        "# X=X.reshape(-1,1)"
      ],
      "metadata": {
        "id": "ds-umy86XOK6",
        "outputId": "c8a38c7a-356f-48fb-d966-5be40e1d6436",
        "colab": {
          "base_uri": "https://localhost:8080/"
        }
      },
      "execution_count": null,
      "outputs": [
        {
          "output_type": "stream",
          "name": "stdout",
          "text": [
            "   Unnamed: 0       MFCC      CENS   CONTRAST  FLATNESS         FREQ  \\\n",
            "0           0 -20.080439  0.149871  28.902303  0.000432  1287.612553   \n",
            "1           1  -3.118162  0.280302  19.861241  0.030559  4239.267800   \n",
            "2           2 -18.170088  0.280843  18.849347  0.118320  8815.735581   \n",
            "3           3 -18.820509  0.255075  21.584384  0.012167  6312.573479   \n",
            "4           4 -14.518768  0.262741  23.630121  0.000932  2078.409028   \n",
            "\n",
            "   CROSSING RATE  \n",
            "0       0.061970  \n",
            "1       0.069825  \n",
            "2       0.556219  \n",
            "3       0.168851  \n",
            "4       0.107360  \n",
            "\n",
            "0    1\n",
            "1    1\n",
            "2    0\n",
            "3    0\n",
            "4    1\n",
            "Name: Classes, dtype: int64\n"
          ]
        }
      ]
    },
    {
      "cell_type": "code",
      "source": [
        "#X_train, X_test, y_train, y_test = train_test_split(X, y, train_size=0.20,random_state = 42 ,shuffle = True)"
      ],
      "metadata": {
        "id": "LdWFDCsAXUpP"
      },
      "execution_count": null,
      "outputs": []
    },
    {
      "cell_type": "code",
      "source": [
        "#X_train.to_csv(\"train file\")\n",
        "#X_test.to_csv(\"test file.\")\n",
        "# print(y_train)\n",
        "print(X)\n",
        "print(y)"
      ],
      "metadata": {
        "id": "DH6UcZ9jXXhd",
        "outputId": "ebbe629f-d8f1-459e-c23d-494191247743",
        "colab": {
          "base_uri": "https://localhost:8080/"
        }
      },
      "execution_count": null,
      "outputs": [
        {
          "output_type": "stream",
          "name": "stdout",
          "text": [
            "   Unnamed: 0       MFCC      CENS   CONTRAST  FLATNESS         FREQ  \\\n",
            "0           0 -20.080439  0.149871  28.902303  0.000432  1287.612553   \n",
            "1           1  -3.118162  0.280302  19.861241  0.030559  4239.267800   \n",
            "2           2 -18.170088  0.280843  18.849347  0.118320  8815.735581   \n",
            "3           3 -18.820509  0.255075  21.584384  0.012167  6312.573479   \n",
            "4           4 -14.518768  0.262741  23.630121  0.000932  2078.409028   \n",
            "\n",
            "   CROSSING RATE  \n",
            "0       0.061970  \n",
            "1       0.069825  \n",
            "2       0.556219  \n",
            "3       0.168851  \n",
            "4       0.107360  \n",
            "0    1\n",
            "1    1\n",
            "2    0\n",
            "3    0\n",
            "4    1\n",
            "Name: Classes, dtype: int64\n"
          ]
        }
      ]
    },
    {
      "cell_type": "code",
      "source": [
        "'''\n",
        "from sklearn.preprocessing import StandardScaler\n",
        "scaler=StandardScaler()\n",
        "scaler.fit(X_train)\n",
        "X_train = scaler.transform(X_train)\n",
        "print(X_train)\n",
        "X_test = scaler.transform(X_test)\n",
        "'''"
      ],
      "metadata": {
        "id": "D0bqVeEEM3tx",
        "outputId": "8434329a-cbd6-4f4e-8d96-b002f37790ac",
        "colab": {
          "base_uri": "https://localhost:8080/",
          "height": 53
        }
      },
      "execution_count": null,
      "outputs": [
        {
          "output_type": "execute_result",
          "data": {
            "text/plain": [
              "'\\nfrom sklearn.preprocessing import StandardScaler\\nscaler=StandardScaler()\\nscaler.fit(X_train)\\nX_train = scaler.transform(X_train)\\nprint(X_train)\\nX_test = scaler.transform(X_test)\\n'"
            ],
            "application/vnd.google.colaboratory.intrinsic+json": {
              "type": "string"
            }
          },
          "metadata": {},
          "execution_count": 36
        }
      ]
    },
    {
      "cell_type": "code",
      "source": [
        "knn = KNeighborsClassifier(n_neighbors=1)\n",
        "m = knn.fit(X, y)\n",
        "#data2= df.copy()\n",
        "#print(data2)\n",
        "#print(df)\n",
        "#df.drop(['Classes'] ,axis=1, inplace=True)\n",
        "k=(df.loc[2])\n",
        "#print(k)\n",
        "\n",
        "from sklearn.preprocessing import MinMaxScaler\n",
        "scaler = MinMaxScaler()\n",
        "k1 = scaler.fit_transform(pd.DataFrame(k))\n",
        "#print(k1)\n",
        "k2=k.values.reshape(1,-1)\n",
        "#print(k2)\n",
        "preds = m.predict(k2)\n",
        "#Classes = {0:'melody',1:'pop'}\n",
        "print(preds[0])\n",
        "#preds[:2]\n",
        "#confusion_matrix(y_true=y_test, y_pred=preds)"
      ],
      "metadata": {
        "colab": {
          "base_uri": "https://localhost:8080/"
        },
        "id": "6o6rXiZOXadB",
        "outputId": "1d488df7-f2e1-4e32-bb89-598499f78287"
      },
      "execution_count": null,
      "outputs": [
        {
          "output_type": "stream",
          "name": "stdout",
          "text": [
            "0\n"
          ]
        },
        {
          "output_type": "stream",
          "name": "stderr",
          "text": [
            "/usr/local/lib/python3.8/dist-packages/sklearn/base.py:450: UserWarning: X does not have valid feature names, but KNeighborsClassifier was fitted with feature names\n",
            "  warnings.warn(\n"
          ]
        }
      ]
    },
    {
      "cell_type": "code",
      "source": [
        "filename=\"../content/drive/MyDrive/OhBot/Loop.wav\"\n",
        "#preprocess the audio file\n",
        "audio, sample_rate = librosa.load(filename, res_type='kaiser_fast')\n",
        "mfccs_features = librosa.feature.mfcc(y=audio, sr=sample_rate, n_mfcc=7)\n",
        "mfccs_scaled_features = np.mean(mfccs_features.T,axis=0)\n",
        "#Reshape MFCC feature to 2-D array\n",
        "mfccs_scaled_features=mfccs_scaled_features.reshape(1,-1)\n",
        "#predicted_label=m.predict_classes(mfccs_scaled_features)\n",
        "x_predict=m.predict(mfccs_scaled_features)\n",
        "predicted_label=np.argmax(x_predict)\n",
        "print(predicted_label)\n",
        "\n",
        "###############################################\n",
        "'''\n",
        "from tensorflow.keras.utils import to_categorical\n",
        "from sklearn.preprocessing import LabelEncoder\n",
        "labelencoder=LabelEncoder()\n",
        "y=to_categorical(labelencoder.fit_transform(y))\n",
        "prediction_class = labelencoder.inverse_transform(predicted_label)\n",
        "print(prediction_class)\n",
        "'''"
      ],
      "metadata": {
        "id": "IQQfNId6Pg6l",
        "outputId": "b89440a9-b87e-4a06-df7e-95264ba20975",
        "colab": {
          "base_uri": "https://localhost:8080/",
          "height": 125
        }
      },
      "execution_count": null,
      "outputs": [
        {
          "output_type": "stream",
          "name": "stdout",
          "text": [
            "0\n"
          ]
        },
        {
          "output_type": "stream",
          "name": "stderr",
          "text": [
            "/usr/local/lib/python3.8/dist-packages/sklearn/base.py:450: UserWarning: X does not have valid feature names, but KNeighborsClassifier was fitted with feature names\n",
            "  warnings.warn(\n"
          ]
        },
        {
          "output_type": "execute_result",
          "data": {
            "text/plain": [
              "'\\nfrom tensorflow.keras.utils import to_categorical\\nfrom sklearn.preprocessing import LabelEncoder\\nlabelencoder=LabelEncoder()\\ny=to_categorical(labelencoder.fit_transform(y))\\nprediction_class = labelencoder.inverse_transform(predicted_label) \\nprint(prediction_class)\\n'"
            ],
            "application/vnd.google.colaboratory.intrinsic+json": {
              "type": "string"
            }
          },
          "metadata": {},
          "execution_count": 81
        }
      ]
    },
    {
      "cell_type": "code",
      "source": [
        "'''\n",
        "j = ('../content/drive/MyDrive/OhBot/Loop.wav')\n",
        "k,j1 = librosa.load(j)\n",
        "k = m.predict(j1)\n",
        "'''"
      ],
      "metadata": {
        "colab": {
          "base_uri": "https://localhost:8080/",
          "height": 36
        },
        "id": "YDCaYYkkXdPT",
        "outputId": "5bf9a83c-1505-4550-f870-c22f62539e68"
      },
      "execution_count": null,
      "outputs": [
        {
          "output_type": "execute_result",
          "data": {
            "text/plain": [
              "\"\\nj = ('../content/drive/MyDrive/OhBot/Loop.wav')\\nk,j1 = librosa.load(j)\\nk = m.predict(j1)\\n\""
            ],
            "application/vnd.google.colaboratory.intrinsic+json": {
              "type": "string"
            }
          },
          "metadata": {},
          "execution_count": 1
        }
      ]
    },
    {
      "cell_type": "code",
      "source": [
        "# j=j.reshape(-1,1)\n",
        "# k = m.predict(j1)"
      ],
      "metadata": {
        "id": "EydQ0lyWeA9L"
      },
      "execution_count": null,
      "outputs": []
    },
    {
      "cell_type": "code",
      "source": [],
      "metadata": {
        "id": "YmgZ8li0gWU7"
      },
      "execution_count": null,
      "outputs": []
    }
  ]
}